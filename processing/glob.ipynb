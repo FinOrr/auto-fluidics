{
 "cells": [
  {
   "cell_type": "code",
   "execution_count": 1,
   "metadata": {},
   "outputs": [],
   "source": [
    "import cv2\n",
    "import numpy as np\n",
    "import time\n",
    "\n",
    "# Start processing timer\n",
    "start = time.time()\n",
    "\n",
    "# Load in the sample image\n",
    "sample = cv2.imread('../img/sample-2.png')\n",
    "\n",
    "# Convert to grayscale\n",
    "grayscale = cv2.cvtColor(sample, cv2.COLOR_BGR2GRAY)"
   ]
  },
  {
   "cell_type": "markdown",
   "metadata": {},
   "source": [
    "The binary thresholding is very unstable and not suitable."
   ]
  },
  {
   "cell_type": "code",
   "execution_count": 2,
   "metadata": {},
   "outputs": [],
   "source": [
    "# Binary thresholding\n",
    "# Apply binary thresholding\n",
    "# Parameters:\n",
    "#   src: input grayscale image\n",
    "#   thresh: threshold value\n",
    "#   maxval: maximum value to use with the binary thresholding type\n",
    "#   type: thresholding type (cv2.THRESH_BINARY, cv2.THRESH_BINARY_INV, etc.)\n",
    "# Returns:\n",
    "#   ret: the threshold value (not used in this example)\n",
    "#   binary_thresholded_sample: the binary thresholded image\n",
    "# ret, binary_thresholded_sample = cv2.threshold(grayscale, 90, 255, cv2.THRESH_BINARY)"
   ]
  },
  {
   "cell_type": "markdown",
   "metadata": {},
   "source": [
    "We'll instead use an edge detection algorthim, such as Canny."
   ]
  },
  {
   "cell_type": "code",
   "execution_count": 3,
   "metadata": {},
   "outputs": [
    {
     "data": {
      "text/plain": [
       "array([[0, 0, 0, ..., 0, 0, 0],\n",
       "       [0, 0, 0, ..., 0, 0, 0],\n",
       "       [0, 0, 0, ..., 0, 0, 0],\n",
       "       ...,\n",
       "       [0, 0, 0, ..., 0, 0, 0],\n",
       "       [0, 0, 0, ..., 0, 0, 0],\n",
       "       [0, 0, 0, ..., 0, 0, 0]], dtype=uint8)"
      ]
     },
     "execution_count": 3,
     "metadata": {},
     "output_type": "execute_result"
    }
   ],
   "source": [
    "# Apply Canny edge detection\n",
    "# Parameters:\n",
    "#   image: input grayscale image\n",
    "#   threshold1: first threshold for the hysteresis procedure\n",
    "#   threshold2: second threshold for the hysteresis procedure\n",
    "# Returns:\n",
    "#   edges: output edge map; single channels 8-bit image, which has the same size as image\n",
    "edges = cv2.Canny(grayscale, 100, 200)\n",
    "\n",
    "# Find contours\n",
    "# Parameters:\n",
    "#   image: input 8-bit single-channel image\n",
    "#   mode: contour retrieval mode (cv2.RETR_EXTERNAL: retrieves only the extreme outer contours)\n",
    "#   method: contour approximation method (cv2.CHAIN_APPROX_SIMPLE: compresses horizontal, vertical, and diagonal segments and leaves only their end points)\n",
    "# Returns:\n",
    "#   contours: a Python list of all the contours in the image. Each individual contour is a Numpy array of (x, y) coordinates of boundary points of the object\n",
    "contours, _ = cv2.findContours(edges, cv2.RETR_EXTERNAL, cv2.CHAIN_APPROX_SIMPLE)\n",
    "\n",
    "# Draw contours on the original image\n",
    "contour_image = np.zeros_like(grayscale)\n",
    "cv2.drawContours(contour_image, contours, -1, (255, 255, 255), 2)"
   ]
  },
  {
   "cell_type": "code",
   "execution_count": 4,
   "metadata": {},
   "outputs": [],
   "source": [
    "# Apply Hough Circle Transform\n",
    "# Parameters:\n",
    "#   image: input image\n",
    "#   method: detection method (cv2.HOUGH_GRADIENT)\n",
    "#   dp: inverse ratio of the accumulator resolution to the image resolution (1)\n",
    "#   minDist: minimum distance between the centers of the detected circles (10)\n",
    "#   param1: first method-specific parameter (canny edge detection threshold)\n",
    "#   param2: second method-specific parameter (accumulator threshold for the circle centers)\n",
    "#   minRadius: minimum circle radius (0)\n",
    "#   maxRadius: maximum circle radius (0)\n",
    "circles = cv2.HoughCircles(contour_image, cv2.HOUGH_GRADIENT, dp=1, minDist=10,\n",
    "                            param1=50, param2=30, minRadius=0, maxRadius=0)\n",
    "\n",
    "# We'll make a copy of the original image, for annotating with circle(s)\n",
    "annotated_sample = sample\n",
    "\n",
    "# If circles are found, draw them\n",
    "if circles is not None:\n",
    "    circles = np.uint16(np.around(circles))\n",
    "    for circle in circles[0, :]:\n",
    "        center = (circle[0], circle[1])\n",
    "        radius = circle[2]\n",
    "        # Draw the circle outline\n",
    "        cv2.circle(sample, center, radius, (0, 255, 0), 2)"
   ]
  },
  {
   "cell_type": "code",
   "execution_count": 5,
   "metadata": {},
   "outputs": [],
   "source": [
    "# Stop the timer and calculate the processing time\n",
    "stop = time.time()\n",
    "processing_time = stop - start\n",
    "\n",
    "# Display the original image\n",
    "cv2.imshow('Original Image', sample)\n",
    "\n",
    "# Display the grayscale image\n",
    "cv2.imshow('Grayscale Image', grayscale)\n",
    "\n",
    "cv2.imshow(\"Contour Image\", contour_image)\n",
    "\n",
    "\n",
    "# Display the image with detected circles\n",
    "cv2.imshow('Detected Circles', annotated_sample)\n",
    "cv2.waitKey(0)\n",
    "cv2.destroyAllWindows()"
   ]
  }
 ],
 "metadata": {
  "kernelspec": {
   "display_name": "Python 3",
   "language": "python",
   "name": "python3"
  },
  "language_info": {
   "codemirror_mode": {
    "name": "ipython",
    "version": 3
   },
   "file_extension": ".py",
   "mimetype": "text/x-python",
   "name": "python",
   "nbconvert_exporter": "python",
   "pygments_lexer": "ipython3",
   "version": "3.10.12"
  }
 },
 "nbformat": 4,
 "nbformat_minor": 2
}
